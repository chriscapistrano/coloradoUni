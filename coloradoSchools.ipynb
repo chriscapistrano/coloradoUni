{
 "cells": [
  {
   "cell_type": "code",
   "execution_count": null,
   "metadata": {},
   "outputs": [],
   "source": [
    "# we can map the universities\n",
    "# have a separate flask page with the raw data that users can filter (e.g., analyses using groupby)\n",
    "# a separate page with interactive charts (e.g., summary stats of a university, enrollment in each school.....\n",
    "# ........  breakdown of ethnic backgrounds by school, residency breakdown per school, student level)"
   ]
  },
  {
   "cell_type": "code",
   "execution_count": 1,
   "metadata": {},
   "outputs": [],
   "source": [
    "import pandas as pd\n",
    "import numpy as np"
   ]
  },
  {
   "cell_type": "code",
   "execution_count": 2,
   "metadata": {},
   "outputs": [],
   "source": [
    "file = pd.read_csv('dataOne.csv')"
   ]
  },
  {
   "cell_type": "code",
   "execution_count": 3,
   "metadata": {},
   "outputs": [
    {
     "data": {
      "text/html": [
       "<div>\n",
       "<style scoped>\n",
       "    .dataframe tbody tr th:only-of-type {\n",
       "        vertical-align: middle;\n",
       "    }\n",
       "\n",
       "    .dataframe tbody tr th {\n",
       "        vertical-align: top;\n",
       "    }\n",
       "\n",
       "    .dataframe thead th {\n",
       "        text-align: right;\n",
       "    }\n",
       "</style>\n",
       "<table border=\"1\" class=\"dataframe\">\n",
       "  <thead>\n",
       "    <tr style=\"text-align: right;\">\n",
       "      <th></th>\n",
       "      <th>year</th>\n",
       "      <th>institutionName</th>\n",
       "      <th>institutionLevelId</th>\n",
       "      <th>institutionLevel</th>\n",
       "      <th>institutionType</th>\n",
       "      <th>taxType</th>\n",
       "      <th>division</th>\n",
       "      <th>ageDesc</th>\n",
       "      <th>max</th>\n",
       "      <th>min</th>\n",
       "      <th>gender</th>\n",
       "      <th>ethnicity</th>\n",
       "      <th>studentLevel</th>\n",
       "      <th>degreeLevel</th>\n",
       "      <th>residencyId</th>\n",
       "      <th>residency</th>\n",
       "      <th>registrationStatusId</th>\n",
       "      <th>registrationStatus</th>\n",
       "      <th>recordCount</th>\n",
       "    </tr>\n",
       "  </thead>\n",
       "  <tbody>\n",
       "    <tr>\n",
       "      <th>0</th>\n",
       "      <td>2010</td>\n",
       "      <td>Colorado Northwestern Community College</td>\n",
       "      <td>2</td>\n",
       "      <td>College</td>\n",
       "      <td>Public</td>\n",
       "      <td>Not-for-Profit</td>\n",
       "      <td>DHE</td>\n",
       "      <td>Over 40</td>\n",
       "      <td>NaN</td>\n",
       "      <td>40.0</td>\n",
       "      <td>Male</td>\n",
       "      <td>Hispanic</td>\n",
       "      <td>Undergraduate</td>\n",
       "      <td>NaN</td>\n",
       "      <td>1</td>\n",
       "      <td>In-State</td>\n",
       "      <td>5.0</td>\n",
       "      <td>Continuing or Readmit</td>\n",
       "      <td>5</td>\n",
       "    </tr>\n",
       "    <tr>\n",
       "      <th>1</th>\n",
       "      <td>2014</td>\n",
       "      <td>Arapahoe Community College</td>\n",
       "      <td>2</td>\n",
       "      <td>College</td>\n",
       "      <td>Public</td>\n",
       "      <td>Not-for-Profit</td>\n",
       "      <td>DHE</td>\n",
       "      <td>17-20</td>\n",
       "      <td>20.0</td>\n",
       "      <td>17.0</td>\n",
       "      <td>Female</td>\n",
       "      <td>White, non-Hispanic</td>\n",
       "      <td>Undergraduate</td>\n",
       "      <td>Associate</td>\n",
       "      <td>2</td>\n",
       "      <td>Out-of-State</td>\n",
       "      <td>5.0</td>\n",
       "      <td>Continuing or Readmit</td>\n",
       "      <td>4</td>\n",
       "    </tr>\n",
       "    <tr>\n",
       "      <th>2</th>\n",
       "      <td>2014</td>\n",
       "      <td>Colorado State University</td>\n",
       "      <td>4</td>\n",
       "      <td>University</td>\n",
       "      <td>Public</td>\n",
       "      <td>Not-for-Profit</td>\n",
       "      <td>DHE</td>\n",
       "      <td>25-40</td>\n",
       "      <td>40.0</td>\n",
       "      <td>25.0</td>\n",
       "      <td>Female</td>\n",
       "      <td>White, non-Hispanic</td>\n",
       "      <td>Undergraduate</td>\n",
       "      <td>Bachelor</td>\n",
       "      <td>2</td>\n",
       "      <td>Out-of-State</td>\n",
       "      <td>3.0</td>\n",
       "      <td>Transfer</td>\n",
       "      <td>9</td>\n",
       "    </tr>\n",
       "    <tr>\n",
       "      <th>3</th>\n",
       "      <td>2012</td>\n",
       "      <td>Northeastern Junior College</td>\n",
       "      <td>2</td>\n",
       "      <td>College</td>\n",
       "      <td>Public</td>\n",
       "      <td>Not-for-Profit</td>\n",
       "      <td>DHE</td>\n",
       "      <td>25-40</td>\n",
       "      <td>40.0</td>\n",
       "      <td>25.0</td>\n",
       "      <td>Male</td>\n",
       "      <td>White, non-Hispanic</td>\n",
       "      <td>Undergraduate</td>\n",
       "      <td>Associate</td>\n",
       "      <td>2</td>\n",
       "      <td>Out-of-State</td>\n",
       "      <td>5.0</td>\n",
       "      <td>Continuing or Readmit</td>\n",
       "      <td>1</td>\n",
       "    </tr>\n",
       "    <tr>\n",
       "      <th>4</th>\n",
       "      <td>2009</td>\n",
       "      <td>Trinidad State Junior College</td>\n",
       "      <td>2</td>\n",
       "      <td>College</td>\n",
       "      <td>Public</td>\n",
       "      <td>Not-for-Profit</td>\n",
       "      <td>DHE</td>\n",
       "      <td>25-40</td>\n",
       "      <td>40.0</td>\n",
       "      <td>25.0</td>\n",
       "      <td>Male</td>\n",
       "      <td>Unknown Ethnicity</td>\n",
       "      <td>Undergraduate</td>\n",
       "      <td>Associate</td>\n",
       "      <td>2</td>\n",
       "      <td>Out-of-State</td>\n",
       "      <td>1.0</td>\n",
       "      <td>First Time</td>\n",
       "      <td>1</td>\n",
       "    </tr>\n",
       "  </tbody>\n",
       "</table>\n",
       "</div>"
      ],
      "text/plain": [
       "   year                          institutionName  institutionLevelId  \\\n",
       "0  2010  Colorado Northwestern Community College                   2   \n",
       "1  2014               Arapahoe Community College                   2   \n",
       "2  2014                Colorado State University                   4   \n",
       "3  2012              Northeastern Junior College                   2   \n",
       "4  2009            Trinidad State Junior College                   2   \n",
       "\n",
       "  institutionLevel institutionType         taxType division  ageDesc   max  \\\n",
       "0          College          Public  Not-for-Profit      DHE  Over 40   NaN   \n",
       "1          College          Public  Not-for-Profit      DHE    17-20  20.0   \n",
       "2       University          Public  Not-for-Profit      DHE    25-40  40.0   \n",
       "3          College          Public  Not-for-Profit      DHE    25-40  40.0   \n",
       "4          College          Public  Not-for-Profit      DHE    25-40  40.0   \n",
       "\n",
       "    min  gender            ethnicity   studentLevel degreeLevel  residencyId  \\\n",
       "0  40.0    Male             Hispanic  Undergraduate         NaN            1   \n",
       "1  17.0  Female  White, non-Hispanic  Undergraduate   Associate            2   \n",
       "2  25.0  Female  White, non-Hispanic  Undergraduate    Bachelor            2   \n",
       "3  25.0    Male  White, non-Hispanic  Undergraduate   Associate            2   \n",
       "4  25.0    Male    Unknown Ethnicity  Undergraduate   Associate            2   \n",
       "\n",
       "      residency  registrationStatusId     registrationStatus  recordCount  \n",
       "0      In-State                   5.0  Continuing or Readmit            5  \n",
       "1  Out-of-State                   5.0  Continuing or Readmit            4  \n",
       "2  Out-of-State                   3.0               Transfer            9  \n",
       "3  Out-of-State                   5.0  Continuing or Readmit            1  \n",
       "4  Out-of-State                   1.0             First Time            1  "
      ]
     },
     "execution_count": 3,
     "metadata": {},
     "output_type": "execute_result"
    }
   ],
   "source": [
    "file.head()"
   ]
  },
  {
   "cell_type": "code",
   "execution_count": 18,
   "metadata": {},
   "outputs": [
    {
     "data": {
      "text/plain": [
       "Index(['year', 'institutionName', 'institutionLevelId', 'institutionLevel',\n",
       "       'institutionType', 'taxType', 'division', 'ageDesc', 'max', 'min',\n",
       "       'gender', 'ethnicity', 'studentLevel', 'degreeLevel', 'residencyId',\n",
       "       'residency', 'registrationStatusId', 'registrationStatus',\n",
       "       'recordCount'],\n",
       "      dtype='object')"
      ]
     },
     "execution_count": 18,
     "metadata": {},
     "output_type": "execute_result"
    }
   ],
   "source": [
    "file.columns"
   ]
  },
  {
   "cell_type": "code",
   "execution_count": 4,
   "metadata": {},
   "outputs": [
    {
     "data": {
      "text/plain": [
       "178179"
      ]
     },
     "execution_count": 4,
     "metadata": {},
     "output_type": "execute_result"
    }
   ],
   "source": [
    "#there are a total of 178,179 students enrolled in Colorado universities\n",
    "\n",
    "file['year'].count()"
   ]
  },
  {
   "cell_type": "code",
   "execution_count": 5,
   "metadata": {},
   "outputs": [
    {
     "data": {
      "text/plain": [
       "29"
      ]
     },
     "execution_count": 5,
     "metadata": {},
     "output_type": "execute_result"
    }
   ],
   "source": [
    "#how many universities? We can easily map this \n",
    "file['institutionName'].nunique()"
   ]
  },
  {
   "cell_type": "code",
   "execution_count": null,
   "metadata": {},
   "outputs": [],
   "source": [
    "#get data from top 10"
   ]
  },
  {
   "cell_type": "code",
   "execution_count": 6,
   "metadata": {},
   "outputs": [
    {
     "data": {
      "text/plain": [
       "array(['Colorado Northwestern Community College',\n",
       "       'Arapahoe Community College', 'Colorado State University',\n",
       "       'Northeastern Junior College', 'Trinidad State Junior College',\n",
       "       'Red Rocks Community College', 'University of Colorado Denver',\n",
       "       'CSU-Global Campus', 'Adams State University',\n",
       "       'Lamar Community College', 'Pikes Peak Community College',\n",
       "       'Colorado School of Mines', 'Community College of Aurora',\n",
       "       'Colorado Mountain College', 'Front Range Community College',\n",
       "       'Metropolitan State University of Denver', 'Fort Lewis College',\n",
       "       'Pueblo Community College', 'Aims Community College',\n",
       "       'University of Northern Colorado', 'Morgan Community College',\n",
       "       'Colorado State University - Pueblo',\n",
       "       'Western State Colorado University', 'Community College of Denver',\n",
       "       'Otero Junior College', 'Colorado Mesa University',\n",
       "       'University of Colorado Colorado Springs',\n",
       "       'University of Colorado Boulder', 'Western State University'],\n",
       "      dtype=object)"
      ]
     },
     "execution_count": 6,
     "metadata": {},
     "output_type": "execute_result"
    }
   ],
   "source": [
    "#list these unique universitys \n",
    "file['institutionName'].unique()"
   ]
  },
  {
   "cell_type": "code",
   "execution_count": 9,
   "metadata": {},
   "outputs": [
    {
     "data": {
      "text/plain": [
       "University of Colorado Denver              11029\n",
       "University of Colorado Boulder             10616\n",
       "Front Range Community College              10258\n",
       "Pikes Peak Community College               10155\n",
       "Community College of Denver                 9613\n",
       "Colorado State University                   9592\n",
       "Arapahoe Community College                  8681\n",
       "Colorado Mountain College                   8403\n",
       "Community College of Aurora                 8290\n",
       "Red Rocks Community College                 8235\n",
       "Colorado Mesa University                    7238\n",
       "University of Colorado Colorado Springs     7054\n",
       "University of Northern Colorado             6948\n",
       "Pueblo Community College                    6531\n",
       "Aims Community College                      6123\n",
       "Metropolitan State University of Denver     5927\n",
       "Adams State University                      4903\n",
       "Colorado State University - Pueblo          4722\n",
       "Colorado School of Mines                    4722\n",
       "Trinidad State Junior College               4448\n",
       "Fort Lewis College                          3883\n",
       "Colorado Northwestern Community College     3841\n",
       "Northeastern Junior College                 3737\n",
       "Otero Junior College                        3585\n",
       "Morgan Community College                    3387\n",
       "Lamar Community College                     2819\n",
       "Western State University                    1622\n",
       "Western State Colorado University            958\n",
       "CSU-Global Campus                            859\n",
       "Name: institutionName, dtype: int64"
      ]
     },
     "execution_count": 9,
     "metadata": {},
     "output_type": "execute_result"
    }
   ],
   "source": [
    "#how many enrolled students in each school\n",
    "file['institutionName'].value_counts()"
   ]
  },
  {
   "cell_type": "code",
   "execution_count": 10,
   "metadata": {},
   "outputs": [],
   "source": [
    "# group by \"institution name\" to summarize variables (e.g., gender) based on school\n",
    "grouped = file.groupby('institutionName')"
   ]
  },
  {
   "cell_type": "code",
   "execution_count": 15,
   "metadata": {},
   "outputs": [
    {
     "data": {
      "text/plain": [
       "institutionName                          gender \n",
       "Adams State University                   Female     2466\n",
       "                                         Male       2299\n",
       "                                         Unknown     138\n",
       "Aims Community College                   Female     2912\n",
       "                                         Male       2892\n",
       "                                         Unknown     319\n",
       "Arapahoe Community College               Female     4336\n",
       "                                         Male       4111\n",
       "                                         Unknown     234\n",
       "CSU-Global Campus                        Female      402\n",
       "                                         Male        393\n",
       "                                         Unknown      64\n",
       "Colorado Mesa University                 Female     3585\n",
       "                                         Male       3537\n",
       "                                         Unknown     116\n",
       "Colorado Mountain College                Female     4222\n",
       "                                         Male       4136\n",
       "                                         Unknown      45\n",
       "Colorado Northwestern Community College  Female     2043\n",
       "                                         Male       1758\n",
       "                                         Unknown      40\n",
       "Colorado School of Mines                 Male       2746\n",
       "                                         Female     1933\n",
       "                                         Unknown      43\n",
       "Colorado State University                Female     4924\n",
       "                                         Male       4668\n",
       "Colorado State University - Pueblo       Female     2397\n",
       "                                         Male       2325\n",
       "Community College of Aurora              Female     4210\n",
       "                                         Male       3899\n",
       "                                                    ... \n",
       "Pikes Peak Community College             Female     5205\n",
       "                                         Male       4876\n",
       "                                         Unknown      74\n",
       "Pueblo Community College                 Female     3287\n",
       "                                         Male       3217\n",
       "                                         Unknown      27\n",
       "Red Rocks Community College              Male       4149\n",
       "                                         Female     3993\n",
       "                                         Unknown      93\n",
       "Trinidad State Junior College            Male       2286\n",
       "                                         Female     2155\n",
       "                                         Unknown       7\n",
       "University of Colorado Boulder           Male       5372\n",
       "                                         Female     5243\n",
       "                                         Unknown       1\n",
       "University of Colorado Colorado Springs  Female     3656\n",
       "                                         Male       3394\n",
       "                                         Unknown       4\n",
       "University of Colorado Denver            Female     5797\n",
       "                                         Male       5220\n",
       "                                         Unknown      12\n",
       "University of Northern Colorado          Female     3727\n",
       "                                         Male       3199\n",
       "                                         Unknown      22\n",
       "Western State Colorado University        Male        493\n",
       "                                         Female      457\n",
       "                                         Unknown       8\n",
       "Western State University                 Male        842\n",
       "                                         Female      748\n",
       "                                         Unknown      32\n",
       "Name: gender, Length: 84, dtype: int64"
      ]
     },
     "execution_count": 15,
     "metadata": {},
     "output_type": "execute_result"
    }
   ],
   "source": [
    "#gender break down for each university\n",
    "gender = grouped['gender'].value_counts()\n",
    "gender"
   ]
  },
  {
   "cell_type": "code",
   "execution_count": 16,
   "metadata": {},
   "outputs": [
    {
     "data": {
      "text/plain": [
       "institutionName                          ageDesc \n",
       "Adams State University                   17-20       1305\n",
       "                                         25-40       1216\n",
       "                                         21-24       1097\n",
       "                                         Over 40      804\n",
       "                                         Unknown      423\n",
       "                                         Under 17      58\n",
       "Aims Community College                   17-20       1771\n",
       "                                         25-40       1479\n",
       "                                         21-24       1380\n",
       "                                         Over 40     1020\n",
       "                                         Under 17     455\n",
       "                                         Unknown       18\n",
       "Arapahoe Community College               25-40       2390\n",
       "                                         17-20       2320\n",
       "                                         21-24       1806\n",
       "                                         Over 40     1655\n",
       "                                         Under 17     476\n",
       "                                         Unknown       34\n",
       "CSU-Global Campus                        Unknown      710\n",
       "                                         25-40         64\n",
       "                                         Over 40       48\n",
       "                                         21-24         28\n",
       "                                         17-20          9\n",
       "Colorado Mesa University                 17-20       2320\n",
       "                                         21-24       1736\n",
       "                                         25-40       1701\n",
       "                                         Over 40     1019\n",
       "                                         Unknown      283\n",
       "                                         Under 17     179\n",
       "Colorado Mountain College                17-20       2315\n",
       "                                                     ... \n",
       "University of Colorado Colorado Springs  25-40       2279\n",
       "                                         21-24       1867\n",
       "                                         17-20       1402\n",
       "                                         Over 40     1392\n",
       "                                         Under 17     113\n",
       "                                         Unknown        1\n",
       "University of Colorado Denver            25-40       3975\n",
       "                                         21-24       3232\n",
       "                                         Over 40     2047\n",
       "                                         17-20       1630\n",
       "                                         Under 17     136\n",
       "                                         Unknown        9\n",
       "University of Northern Colorado          25-40       2199\n",
       "                                         21-24       1955\n",
       "                                         17-20       1473\n",
       "                                         Over 40     1237\n",
       "                                         Under 17      69\n",
       "                                         Unknown       15\n",
       "Western State Colorado University        17-20        324\n",
       "                                         21-24        233\n",
       "                                         25-40        168\n",
       "                                         Unknown      121\n",
       "                                         Over 40       80\n",
       "                                         Under 17      32\n",
       "Western State University                 17-20        621\n",
       "                                         21-24        498\n",
       "                                         25-40        337\n",
       "                                         Over 40      131\n",
       "                                         Under 17      21\n",
       "                                         Unknown       14\n",
       "Name: ageDesc, Length: 169, dtype: int64"
      ]
     },
     "execution_count": 16,
     "metadata": {},
     "output_type": "execute_result"
    }
   ],
   "source": [
    "# age breakdown\n",
    "age = grouped['ageDesc'].value_counts()\n",
    "age"
   ]
  },
  {
   "cell_type": "code",
   "execution_count": 19,
   "metadata": {},
   "outputs": [
    {
     "data": {
      "text/plain": [
       "institutionName                          studentLevel \n",
       "Adams State University                   Undergraduate     3426\n",
       "                                         Graduate          1477\n",
       "Aims Community College                   Undergraduate     6123\n",
       "Arapahoe Community College               Undergraduate     8681\n",
       "CSU-Global Campus                        Undergraduate      539\n",
       "                                         Graduate           320\n",
       "Colorado Mesa University                 Undergraduate     6862\n",
       "                                         Graduate           376\n",
       "Colorado Mountain College                Undergraduate     8167\n",
       "                                         Graduate           236\n",
       "Colorado Northwestern Community College  Undergraduate     3839\n",
       "                                         Graduate             2\n",
       "Colorado School of Mines                 Undergraduate     2435\n",
       "                                         Graduate          2287\n",
       "Colorado State University                Graduate          5003\n",
       "                                         Undergraduate     4589\n",
       "Colorado State University - Pueblo       Undergraduate     3768\n",
       "                                         Graduate           954\n",
       "Community College of Aurora              Undergraduate     8290\n",
       "Community College of Denver              Undergraduate     9613\n",
       "Fort Lewis College                       Undergraduate     3827\n",
       "                                         Graduate            56\n",
       "Front Range Community College            Undergraduate    10258\n",
       "Lamar Community College                  Undergraduate     2819\n",
       "Metropolitan State University of Denver  Undergraduate     5721\n",
       "                                         Graduate           206\n",
       "Morgan Community College                 Undergraduate     3387\n",
       "Northeastern Junior College              Undergraduate     3737\n",
       "Otero Junior College                     Undergraduate     3585\n",
       "Pikes Peak Community College             Undergraduate    10155\n",
       "Pueblo Community College                 Undergraduate     6531\n",
       "Red Rocks Community College              Undergraduate     8235\n",
       "Trinidad State Junior College            Undergraduate     4448\n",
       "University of Colorado Boulder           Graduate          5661\n",
       "                                         Undergraduate     4955\n",
       "University of Colorado Colorado Springs  Undergraduate     4140\n",
       "                                         Graduate          2914\n",
       "University of Colorado Denver            Graduate          6188\n",
       "                                         Undergraduate     4841\n",
       "University of Northern Colorado          Undergraduate     3823\n",
       "                                         Graduate          3125\n",
       "Western State Colorado University        Undergraduate      813\n",
       "                                         Graduate           145\n",
       "Western State University                 Undergraduate     1603\n",
       "                                         Graduate            19\n",
       "Name: studentLevel, dtype: int64"
      ]
     },
     "execution_count": 19,
     "metadata": {},
     "output_type": "execute_result"
    }
   ],
   "source": [
    "#institution level of students (i.e., grad or undergrad)\n",
    "level = grouped['studentLevel'].value_counts()\n",
    "level"
   ]
  },
  {
   "cell_type": "code",
   "execution_count": 20,
   "metadata": {},
   "outputs": [
    {
     "data": {
      "text/plain": [
       "institutionName                          residency   \n",
       "Adams State University                   In-State        3338\n",
       "                                         Out-of-State    1565\n",
       "Aims Community College                   In-State        4701\n",
       "                                         Out-of-State    1414\n",
       "                                         Unknown            8\n",
       "Arapahoe Community College               In-State        6369\n",
       "                                         Out-of-State    2312\n",
       "CSU-Global Campus                        In-State         526\n",
       "                                         Unclassified     333\n",
       "Colorado Mesa University                 In-State        5003\n",
       "                                         Out-of-State    2235\n",
       "Colorado Mountain College                In-State        5512\n",
       "                                         Out-of-State    2891\n",
       "Colorado Northwestern Community College  In-State        2748\n",
       "                                         Out-of-State    1093\n",
       "Colorado School of Mines                 In-State        2774\n",
       "                                         Out-of-State    1872\n",
       "                                         Unknown           43\n",
       "                                         Unclassified      33\n",
       "Colorado State University                In-State        5364\n",
       "                                         Out-of-State    4188\n",
       "                                         Unclassified      40\n",
       "Colorado State University - Pueblo       In-State        3171\n",
       "                                         Out-of-State    1551\n",
       "Community College of Aurora              In-State        6481\n",
       "                                         Out-of-State    1809\n",
       "Community College of Denver              In-State        6761\n",
       "                                         Out-of-State    2852\n",
       "Fort Lewis College                       In-State        2169\n",
       "                                         Out-of-State    1714\n",
       "                                                         ... \n",
       "Morgan Community College                 In-State        2994\n",
       "                                         Out-of-State     393\n",
       "Northeastern Junior College              In-State        2736\n",
       "                                         Out-of-State    1001\n",
       "Otero Junior College                     In-State        2872\n",
       "                                         Out-of-State     713\n",
       "Pikes Peak Community College             In-State        6664\n",
       "                                         Out-of-State    3491\n",
       "Pueblo Community College                 In-State        4851\n",
       "                                         Out-of-State    1680\n",
       "Red Rocks Community College              In-State        6079\n",
       "                                         Out-of-State    2155\n",
       "                                         Unknown            1\n",
       "Trinidad State Junior College            In-State        3086\n",
       "                                         Out-of-State    1362\n",
       "University of Colorado Boulder           In-State        6419\n",
       "                                         Out-of-State    4197\n",
       "University of Colorado Colorado Springs  In-State        4873\n",
       "                                         Out-of-State    2173\n",
       "                                         Unclassified       8\n",
       "University of Colorado Denver            In-State        6891\n",
       "                                         Out-of-State    4067\n",
       "                                         Unclassified      71\n",
       "University of Northern Colorado          In-State        4293\n",
       "                                         Out-of-State    2655\n",
       "Western State Colorado University        In-State         573\n",
       "                                         Out-of-State     376\n",
       "                                         Unclassified       9\n",
       "Western State University                 In-State        1014\n",
       "                                         Out-of-State     608\n",
       "Name: residency, Length: 69, dtype: int64"
      ]
     },
     "execution_count": 20,
     "metadata": {},
     "output_type": "execute_result"
    }
   ],
   "source": [
    "residency = grouped['residency'].value_counts()\n",
    "residency"
   ]
  },
  {
   "cell_type": "code",
   "execution_count": 22,
   "metadata": {},
   "outputs": [
    {
     "data": {
      "text/plain": [
       "institutionName                          residency   \n",
       "Adams State University                   In-State        68.080767\n",
       "                                         Out-of-State    31.919233\n",
       "Aims Community College                   In-State        76.776090\n",
       "                                         Out-of-State    23.093255\n",
       "                                         Unknown          0.130655\n",
       "Arapahoe Community College               In-State        73.367124\n",
       "                                         Out-of-State    26.632876\n",
       "CSU-Global Campus                        In-State        61.233993\n",
       "                                         Unclassified    38.766007\n",
       "Colorado Mesa University                 In-State        69.121304\n",
       "                                         Out-of-State    30.878696\n",
       "Colorado Mountain College                In-State        65.595621\n",
       "                                         Out-of-State    34.404379\n",
       "Colorado Northwestern Community College  In-State        71.543869\n",
       "                                         Out-of-State    28.456131\n",
       "Colorado School of Mines                 In-State        58.746294\n",
       "                                         Out-of-State    39.644219\n",
       "                                         Unknown          0.910631\n",
       "                                         Unclassified     0.698856\n",
       "Colorado State University                In-State        55.921601\n",
       "                                         Out-of-State    43.661384\n",
       "                                         Unclassified     0.417014\n",
       "Colorado State University - Pueblo       In-State        67.153748\n",
       "                                         Out-of-State    32.846252\n",
       "Community College of Aurora              In-State        78.178528\n",
       "                                         Out-of-State    21.821472\n",
       "Community College of Denver              In-State        70.331842\n",
       "                                         Out-of-State    29.668158\n",
       "Fort Lewis College                       In-State        55.858872\n",
       "                                         Out-of-State    44.141128\n",
       "                                                           ...    \n",
       "Morgan Community College                 In-State        88.396811\n",
       "                                         Out-of-State    11.603189\n",
       "Northeastern Junior College              In-State        73.213808\n",
       "                                         Out-of-State    26.786192\n",
       "Otero Junior College                     In-State        80.111576\n",
       "                                         Out-of-State    19.888424\n",
       "Pikes Peak Community College             In-State        65.622846\n",
       "                                         Out-of-State    34.377154\n",
       "Pueblo Community College                 In-State        74.276527\n",
       "                                         Out-of-State    25.723473\n",
       "Red Rocks Community College              In-State        73.819065\n",
       "                                         Out-of-State    26.168792\n",
       "                                         Unknown          0.012143\n",
       "Trinidad State Junior College            In-State        69.379496\n",
       "                                         Out-of-State    30.620504\n",
       "University of Colorado Boulder           In-State        60.465335\n",
       "                                         Out-of-State    39.534665\n",
       "University of Colorado Colorado Springs  In-State        69.081372\n",
       "                                         Out-of-State    30.805217\n",
       "                                         Unclassified     0.113411\n",
       "University of Colorado Denver            In-State        62.480733\n",
       "                                         Out-of-State    36.875510\n",
       "                                         Unclassified     0.643757\n",
       "University of Northern Colorado          In-State        61.787565\n",
       "                                         Out-of-State    38.212435\n",
       "Western State Colorado University        In-State        59.812109\n",
       "                                         Out-of-State    39.248434\n",
       "                                         Unclassified     0.939457\n",
       "Western State University                 In-State        62.515413\n",
       "                                         Out-of-State    37.484587\n",
       "Name: residency, Length: 69, dtype: float64"
      ]
     },
     "execution_count": 22,
     "metadata": {},
     "output_type": "execute_result"
    }
   ],
   "source": [
    "#try to do percentages of the residencies\n",
    "resTotal = grouped['residency'].count()\n",
    "residencyPerc = (residency/resTotal)*100\n",
    "residencyPerc"
   ]
  },
  {
   "cell_type": "code",
   "execution_count": null,
   "metadata": {},
   "outputs": [],
   "source": []
  }
 ],
 "metadata": {
  "kernelspec": {
   "display_name": "Python 3",
   "language": "python",
   "name": "python3"
  },
  "language_info": {
   "codemirror_mode": {
    "name": "ipython",
    "version": 3
   },
   "file_extension": ".py",
   "mimetype": "text/x-python",
   "name": "python",
   "nbconvert_exporter": "python",
   "pygments_lexer": "ipython3",
   "version": "3.6.5"
  }
 },
 "nbformat": 4,
 "nbformat_minor": 2
}
